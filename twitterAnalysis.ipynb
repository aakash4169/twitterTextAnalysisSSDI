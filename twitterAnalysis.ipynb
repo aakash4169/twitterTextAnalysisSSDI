{
 "cells": [
  {
   "cell_type": "code",
   "execution_count": 1,
   "metadata": {},
   "outputs": [],
   "source": [
    "filename=\"./trump.txt\";\n",
    "with open(filename,encoding=\"utf8\") as f:\n",
    "    content = f.readlines()\n",
    "    #for line in content:\n",
    "       # print(line)"
   ]
  },
  {
   "cell_type": "code",
   "execution_count": 4,
   "metadata": {},
   "outputs": [
    {
     "data": {
      "text/plain": [
       "<function TextIOWrapper.close()>"
      ]
     },
     "execution_count": 4,
     "metadata": {},
     "output_type": "execute_result"
    }
   ],
   "source": [
    "import collections;\n",
    "listNames=[]\n",
    "for line in content:\n",
    "    data = line.split() \n",
    "    \n",
    "    listNames.append(data[0])\n",
    "    #count value to increament list of dictionary\n",
    "\n",
    "#print(listNames)\n",
    "#myset = set(listNames)\n",
    "#print(myset)\n",
    "\n",
    "\n",
    "\n",
    "#counting the number of occurences of each name \n",
    "countUniqueNames = collections.Counter(listNames)\n",
    "\n",
    "\n",
    "\n",
    "a = collections.Counter(countUniqueNames).most_common(10)\n",
    "#print(a)\n",
    "\n",
    "    \n",
    "users = open('mostNumberOfUsers1.txt', 'w', encoding=\"utf-8\")\n",
    "users.write(\"The top 10 users are  \\n\")\n",
    "for i in range(0,10):\n",
    "    users.write( a[i][0] + \" tweeted \" + str(a[i][1]) + \" times\" + \"\\n\")\n",
    "users.close"
   ]
  },
  {
   "cell_type": "code",
   "execution_count": 5,
   "metadata": {},
   "outputs": [],
   "source": [
    "import operator\n",
    "tweetsPerHour = {}\n",
    "\n",
    "for data in content:\n",
    "    dateTime = data.split()\n",
    "    splitTime = dateTime[1].split(\":\")   #checking the time variable from each line\n",
    "    Time = splitTime[0] + \" \" + splitTime[1] \n",
    "    if Time in tweetsPerHour:\n",
    "        tweetsPerHour[Time] += 1\n",
    "    else:\n",
    "        tweetsPerHour[Time] = 1\n",
    "\n",
    "tweetsPerHour = sorted(tweetsPerHour.items(), key=operator.itemgetter(1), reverse=True)\n",
    "#mosttweet\n",
    "\n",
    "tweetsPerHour2 = {}\n",
    "\n",
    "totalpostbyuser = 0\n",
    "for data in tweetsPerHour:\n",
    "    totalpostbyuser += 1\n",
    "    if (data[0].split()[1]) in tweetsPerHour:\n",
    "        tweetsPerHour2[data[0].split()[1]] += 1\n",
    "    else:\n",
    "        tweetsPerHour2[data[0].split()[1]] = 1\n",
    "\n",
    "tweetsPerHour2 = sorted(tweetsPerHour2.items(), key=operator.itemgetter(1))\n",
    "#print(mosttweethour2)\n",
    "\n",
    "\n",
    "totalEntriesToPrint = 10 * len(tweetsPerHour2)\n",
    "user = open('./mostTweets.txt', 'w',\n",
    "                  encoding='utf-8')\n",
    "\n",
    "for x in range(0, len(tweetsPerHour2)):\n",
    "    Search = 10\n",
    "    for data in tweetsPerHour:\n",
    "        if Search == 0:\n",
    "            break\n",
    "        if data[0].split()[1] == tweetsPerHour2[x][0]:\n",
    "            user.write(\"Username: \" + data[0].split()[0] + \"\\n Hour: \" + tweetsPerHour2[x][0] + \"\\n\")\n",
    "            Search -= 1\n",
    "            user.close"
   ]
  },
  {
   "cell_type": "code",
   "execution_count": 6,
   "metadata": {},
   "outputs": [
    {
     "name": "stdout",
     "output_type": "stream",
     "text": [
      "done\n"
     ]
    }
   ],
   "source": [
    "import collections\n",
    "mostFollowers={}\n",
    "\n",
    "for line in content:\n",
    "    data = line.split()    \n",
    "    if data[0] not in mostFollowers:\n",
    "        mostFollowers[data[0]] = int(data[-2])\n",
    "\n",
    "\n",
    "followers = collections.Counter(mostFollowers).most_common(10)\n",
    "\n",
    "\n",
    "user = open('./followed.txt', 'w', encoding=\"utf-8\")\n",
    "user.write(\"Maximum followers \\n\",)\n",
    "\n",
    "for i in range(0, 10):\n",
    "    user.write( \" Username: \" + followers[i][0] + \" & Number of Followers: \" + str(followers[i][1]) + \"\\n\\n\")\n",
    "user.close\n",
    "print(\"done\")"
   ]
  },
  {
   "cell_type": "code",
   "execution_count": 8,
   "metadata": {},
   "outputs": [
    {
     "ename": "NameError",
     "evalue": "name 'MaxRetweets' is not defined",
     "output_type": "error",
     "traceback": [
      "\u001b[1;31m---------------------------------------------------------------------------\u001b[0m",
      "\u001b[1;31mNameError\u001b[0m                                 Traceback (most recent call last)",
      "\u001b[1;32m<ipython-input-8-77f12dc9f87e>\u001b[0m in \u001b[0;36m<module>\u001b[1;34m\u001b[0m\n\u001b[0;32m      7\u001b[0m \u001b[1;33m\u001b[0m\u001b[0m\n\u001b[0;32m      8\u001b[0m \u001b[0mreTweets\u001b[0m\u001b[1;33m\u001b[0m\u001b[1;33m\u001b[0m\u001b[0m\n\u001b[1;32m----> 9\u001b[1;33m \u001b[0mmaxReTweets\u001b[0m \u001b[1;33m=\u001b[0m \u001b[0mcollections\u001b[0m\u001b[1;33m.\u001b[0m\u001b[0mCounter\u001b[0m\u001b[1;33m(\u001b[0m\u001b[0mMaxRetweets\u001b[0m\u001b[1;33m)\u001b[0m\u001b[1;33m.\u001b[0m\u001b[0mmost_common\u001b[0m\u001b[1;33m(\u001b[0m\u001b[1;36m10\u001b[0m\u001b[1;33m)\u001b[0m\u001b[1;33m\u001b[0m\u001b[1;33m\u001b[0m\u001b[0m\n\u001b[0m\u001b[0;32m     10\u001b[0m \u001b[0moutputFile\u001b[0m \u001b[1;33m=\u001b[0m \u001b[0mopen\u001b[0m\u001b[1;33m(\u001b[0m\u001b[1;34m'./retweets.txt'\u001b[0m\u001b[1;33m,\u001b[0m \u001b[1;34m'w'\u001b[0m\u001b[1;33m,\u001b[0m \u001b[0mencoding\u001b[0m\u001b[1;33m=\u001b[0m\u001b[1;34m\"utf-8\"\u001b[0m\u001b[1;33m)\u001b[0m\u001b[1;33m\u001b[0m\u001b[1;33m\u001b[0m\u001b[0m\n\u001b[0;32m     11\u001b[0m \u001b[0moutputFile\u001b[0m\u001b[1;33m.\u001b[0m\u001b[0mwrite\u001b[0m\u001b[1;33m(\u001b[0m\u001b[1;34m\"10 users \\n\"\u001b[0m\u001b[1;33m,\u001b[0m\u001b[1;33m)\u001b[0m\u001b[1;33m\u001b[0m\u001b[1;33m\u001b[0m\u001b[0m\n",
      "\u001b[1;31mNameError\u001b[0m: name 'MaxRetweets' is not defined"
     ]
    }
   ],
   "source": [
    "reTweets = {}\n",
    "\n",
    "for line in content:\n",
    "    data = line.split()    \n",
    "    if data[0] not in reTweets:\n",
    "        reTweets[data[0]] = int(data[-1])\n",
    "\n",
    "reTweets\n",
    "maxReTweets = collections.Counter(reweets).most_common(10)      \n",
    "outputFile = open('./retweets.txt', 'w', encoding=\"utf-8\")\n",
    "outputFile.write(\"10 users \\n\",)\n",
    "\n",
    "for i in range(0, 10):\n",
    "    outputFile.write(\"Username: \" + maxReTweets[i][0] + \" &  Retweets: \" + str(maxReTweets) + \"\\n\\n\")\n",
    "outputFile.close"
   ]
  },
  {
   "cell_type": "code",
   "execution_count": null,
   "metadata": {},
   "outputs": [],
   "source": []
  }
 ],
 "metadata": {
  "kernelspec": {
   "display_name": "Python 3",
   "language": "python",
   "name": "python3"
  },
  "language_info": {
   "codemirror_mode": {
    "name": "ipython",
    "version": 3
   },
   "file_extension": ".py",
   "mimetype": "text/x-python",
   "name": "python",
   "nbconvert_exporter": "python",
   "pygments_lexer": "ipython3",
   "version": "3.7.1"
  }
 },
 "nbformat": 4,
 "nbformat_minor": 2
}
